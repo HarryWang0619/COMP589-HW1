{
 "cells": [
  {
   "cell_type": "markdown",
   "metadata": {},
   "source": [
    "# COMPSCI 589 HW1\n",
    "\n",
    "#### Name: Haochen Wang"
   ]
  },
  {
   "cell_type": "markdown",
   "metadata": {},
   "source": [
    "### SECTION 0: Load Libraries"
   ]
  },
  {
   "cell_type": "code",
   "execution_count": 189,
   "metadata": {},
   "outputs": [],
   "source": [
    "import sklearn.model_selection\n",
    "import scipy\n",
    "import numpy as np\n",
    "import csv\n",
    "import math\n",
    "import matplotlib.pyplot as plt\n",
    "from operator import itemgetter\n",
    "from collections import Counter"
   ]
  },
  {
   "cell_type": "markdown",
   "metadata": {},
   "source": [
    "### SECTION 1: Evaluating KNN"
   ]
  },
  {
   "cell_type": "code",
   "execution_count": 190,
   "metadata": {},
   "outputs": [],
   "source": [
    "#Load the Iris data file using python csv module\n",
    "\n",
    "knn_file = open('iris.csv')\n",
    "csvreader = csv.reader(knn_file)\n",
    "\n",
    "knnd = []\n",
    "for row in csvreader:\n",
    "        knnd.append(row)\n",
    "\n",
    "knndata = []\n",
    "for row in knnd:\n",
    "        c = []\n",
    "        c.append(float(row[0]))\n",
    "        c.append(float(row[1]))\n",
    "        c.append(float(row[2]))\n",
    "        c.append(float(row[3]))\n",
    "        c.append(row[4])\n",
    "        knndata.append(c)\n",
    "\n",
    "# print(knndata)\n"
   ]
  },
  {
   "cell_type": "code",
   "execution_count": 191,
   "metadata": {},
   "outputs": [],
   "source": [
    "# Implementing Helper functions\n",
    "\n",
    "# Normalize module\n",
    "def mini(col):\n",
    "    min = col[0]\n",
    "    for val in col:\n",
    "        if val < min:\n",
    "            min = val\n",
    "    return min\n",
    "\n",
    "def maxi(col):\n",
    "    max = col[0]\n",
    "    for val in col:\n",
    "        if val > max:\n",
    "            max = val\n",
    "    return max\n",
    "\n",
    "def normalizationall(col, max, min):\n",
    "    newarr = []\n",
    "    for val in col:\n",
    "        newarr.append((val-min)/(max-min)) \n",
    "    return newarr\n",
    "\n",
    "def normalization(col):\n",
    "    min = mini(col)\n",
    "    max = maxi(col)\n",
    "    newarr = []\n",
    "    for val in col:\n",
    "        newarr.append((val-min)/(max-min)) \n",
    "    return newarr, min, max\n",
    "\n",
    "def vote(arr):\n",
    "    return max(set(arr), key=arr.count)"
   ]
  },
  {
   "cell_type": "code",
   "execution_count": 192,
   "metadata": {},
   "outputs": [],
   "source": [
    "# Split the Training and Testing Data\n",
    "\n",
    "def split(dat, ranumber):\n",
    "    traknn, tesknn = sklearn.model_selection.train_test_split(dat, train_size=0.8, test_size=0.2, random_state=ranumber, shuffle=True)\n",
    "    return traknn, tesknn\n",
    "\n",
    "# trainknn, testknn = split(knndata, 589)"
   ]
  },
  {
   "cell_type": "code",
   "execution_count": 193,
   "metadata": {},
   "outputs": [],
   "source": [
    "# Euclidean distance\n",
    "\n",
    "def edistance(a, b):\n",
    "    a = np.array(a)\n",
    "    b = np.array(b)\n",
    "    s = np.linalg.norm(a - b)\n",
    "    return s\n",
    "\n",
    "# print(edistance([1,1,1,4],[5,5,5,2]))\n"
   ]
  },
  {
   "cell_type": "code",
   "execution_count": 194,
   "metadata": {},
   "outputs": [],
   "source": [
    "# KD-Tree\n",
    "\n",
    "# I will do it later if I have enough time."
   ]
  },
  {
   "cell_type": "code",
   "execution_count": 195,
   "metadata": {},
   "outputs": [],
   "source": [
    "# KNN Helpers\n",
    "\n",
    "# def seperate_d_c(data):\n",
    "#     dat = []\n",
    "#     cat = []\n",
    "#     all = []\n",
    "#     for row in data:\n",
    "#         da = []\n",
    "#         da.append(float(row[0]))\n",
    "#         da.append(float(row[1]))\n",
    "#         da.append(float(row[2]))\n",
    "#         da.append(float(row[3]))\n",
    "#         dat.append(da)\n",
    "#         al = da.copy()\n",
    "#         al.append(row[4])\n",
    "#         all.append(al)\n",
    "#         cat.append(row[4])\n",
    "        \n",
    "#     return dat, cat, all\n",
    "\n",
    "# trainknndata, trainknncat, ktr = seperate_d_c(trainknn)\n",
    "# testknndata, testknncat, kte = seperate_d_c(testknn)\n",
    "\n",
    "def transpose(dat):\n",
    "    a = []\n",
    "    a.append([row[0] for row in dat])\n",
    "    a.append([row[1] for row in dat])\n",
    "    a.append([row[2] for row in dat])\n",
    "    a.append([row[3] for row in dat])\n",
    "    if len(dat[0]) > 4:\n",
    "        a.append([row[4] for row in dat])\n",
    "    return a\n",
    "\n",
    "def normaltab(traindat, testdat):\n",
    "    trainnom = []\n",
    "    testnom = []\n",
    "    i = 0\n",
    "    for col in traindat:\n",
    "        trarr = []\n",
    "        tearr = []\n",
    "        if i < 4:\n",
    "            trarr, trmin, trmax = normalization(col)\n",
    "            tearr = normalizationall(testdat[i], trmax, trmin)\n",
    "            trainnom.append(trarr)\n",
    "            testnom.append(tearr)\n",
    "            i+=1\n",
    "    if len(traindat) == 5:\n",
    "        trainnom.append(traindat[4])\n",
    "        testnom.append(testdat[4])\n",
    "    return trainnom, testnom\n",
    "    \n",
    "def transback(dat):\n",
    "    ret = []\n",
    "    i = 0\n",
    "    while i < len(dat[0]):\n",
    "        row = []\n",
    "        for col in dat:\n",
    "            row.append(col[i])\n",
    "        ret.append(row)\n",
    "        i+=1\n",
    "    return ret\n",
    "\n",
    "def distarray(normpt, normeddat):\n",
    "    pt1 = normpt[:-1]\n",
    "    cat1 = normpt[-1]\n",
    "    disarray = []\n",
    "    for ins in normeddat:\n",
    "        pt2 = ins[:-1]\n",
    "        cat2 = ins[-1]\n",
    "        dis = edistance(pt1, pt2)\n",
    "        disarray.append([dis,cat2])\n",
    "    return sorted(disarray, key=itemgetter(0))\n",
    "\n",
    "def normflow(train, test):\n",
    "    ttrainknn = transpose(train)\n",
    "    ttestknn = transpose(test)\n",
    "    normttrain, normttest = normaltab(ttrainknn,ttestknn)\n",
    "    nrmtr, nrmte = transback(normttrain), transback(normttest)\n",
    "    return nrmtr, nrmte\n",
    "\n",
    "# we use normtr, normte.  stands for normal train & normal test."
   ]
  },
  {
   "cell_type": "code",
   "execution_count": 196,
   "metadata": {},
   "outputs": [],
   "source": [
    "#KNN\n",
    "\n",
    "def knn(k, traindat, testdat):\n",
    "    predict = []\n",
    "    correct = [col[-1] for col in testdat]\n",
    "    for datpt in testdat:\n",
    "        distlist = distarray(datpt, traindat)\n",
    "        catlist = [col[1] for col in distlist[:k]]\n",
    "        predict.append(vote(catlist))\n",
    "\n",
    "    return predict, correct\n",
    "\n",
    "def knntrains(k, rand, dat):\n",
    "    trainknn, testknn = split(dat, rand)\n",
    "    normedtrain, normedtest =normflow(trainknn, testknn)\n",
    "    predict, correct = knn(k, normedtrain, normedtest)\n",
    "    return predict, correct\n",
    "\n",
    "def knntraintrain(k, rand, dat):\n",
    "    trainknn, testknn = split(dat, rand)\n",
    "    normedtrain, normedtest =normflow(trainknn, testknn)\n",
    "    predict, correct = knn(k, normedtrain, normedtrain)\n",
    "    return predict, correct\n",
    "\n",
    "def accuracy(pred, corr):\n",
    "    i = 0\n",
    "    blist = []\n",
    "    while i < len(pred):\n",
    "        blist.append(pred[i]==corr[i])\n",
    "        i+=1\n",
    "    return (Counter(blist)[True])/len(blist)\n",
    "\n",
    "def kaccuracytest(k, r, data):\n",
    "    p, c = knntrains(k, r, data)\n",
    "    acc = accuracy(p, c)\n",
    "    return acc\n",
    "\n",
    "def kaccuracytrain(k, r, data):\n",
    "    p, c = knntraintrain(k, r, data)\n",
    "    acc = accuracy(p, c)\n",
    "    return acc\n",
    "\n",
    "# print(kaccuracytest(19, 589, knndata))\n",
    "# print(kaccuracytrain(19, 589, knndata))"
   ]
  },
  {
   "cell_type": "code",
   "execution_count": 197,
   "metadata": {},
   "outputs": [],
   "source": [
    "# The Statistical Process for the kNN\n",
    "def statdatatest(data):\n",
    "    k = 1\n",
    "    result_list = []\n",
    "    while k <= 51:\n",
    "        random = 11589\n",
    "        alist = []\n",
    "        while random < 11689:\n",
    "            alist.append(kaccuracytest(k, random, data))\n",
    "            random += 5\n",
    "        result_list.append(alist)\n",
    "        k+=2\n",
    "    \n",
    "    return np.array(result_list)\n",
    "\n",
    "def statdatatrain(data):\n",
    "    k = 1\n",
    "    result_list = []\n",
    "    while k <= 51:\n",
    "        random = 11589\n",
    "        alist = []\n",
    "        while random < 11689:\n",
    "            alist.append(kaccuracytrain(k, random, data))\n",
    "            random += 5\n",
    "        result_list.append(alist)\n",
    "        k+=2\n",
    "    \n",
    "    return np.array(result_list)\n",
    "\n",
    "# narray = statdatatest(knndata)\n",
    "# print(narray.std(axis=1))"
   ]
  },
  {
   "cell_type": "code",
   "execution_count": 198,
   "metadata": {},
   "outputs": [
    {
     "name": "stdout",
     "output_type": "stream",
     "text": [
      "[1.         0.96458333 0.96291667 0.96958333 0.96666667 0.96625\n",
      " 0.96875    0.96541667 0.96541667 0.96166667 0.95958333 0.95916667\n",
      " 0.95791667 0.95791667 0.95833333 0.95833333 0.955      0.94958333\n",
      " 0.94583333 0.94       0.93583333 0.93083333 0.92625    0.91666667\n",
      " 0.90625    0.905     ]\n",
      "[0.         0.00828109 0.01069625 0.00960143 0.00645497 0.0116294\n",
      " 0.0078506  0.01186586 0.01095287 0.00889757 0.00884865 0.00909059\n",
      " 0.00892679 0.00852895 0.00950146 0.00745356 0.00927961 0.01036655\n",
      " 0.01163687 0.01481366 0.01469599 0.0175     0.01608895 0.02074983\n",
      " 0.02022014 0.01814295]\n"
     ]
    }
   ],
   "source": [
    "k = np.arange(1,52,2)\n",
    "narraytrain = statdatatrain(knndata)\n",
    "narraytest = statdatatest(knndata)\n",
    "acctrain = narraytrain.mean(axis=1)\n",
    "print(acctrain)\n",
    "acctest = narraytest.mean(axis=1)\n",
    "stdtrain = narraytrain.std(axis=1)\n",
    "stdtest = narraytest.std(axis=1)\n",
    "print(stdtrain)"
   ]
  },
  {
   "cell_type": "code",
   "execution_count": 199,
   "metadata": {},
   "outputs": [
    {
     "data": {
      "image/png": "[encoded data removed]",
      "text/plain": [
       "<Figure size 432x288 with 1 Axes>"
      ]
     },
     "metadata": {
      "needs_background": "light"
     },
     "output_type": "display_data"
    }
   ],
   "source": [
    "# Q1.1\n",
    "plt.scatter(k, acctrain)\n",
    "  \n",
    "plt.errorbar(k, acctrain, yerr=stdtrain, fmt=\"-o\")\n",
    "plt.title(\"KNN using Training Data\")\n",
    "plt.xlabel(\"K value\")\n",
    "plt.ylabel(\"Accuracy\")\n",
    "plt.show()"
   ]
  },
  {
   "cell_type": "code",
   "execution_count": 200,
   "metadata": {},
   "outputs": [
    {
     "data": {
      "image/png": "[encoded data removed]",
      "text/plain": [
       "<Figure size 432x288 with 1 Axes>"
      ]
     },
     "metadata": {
      "needs_background": "light"
     },
     "output_type": "display_data"
    }
   ],
   "source": [
    "# Q1.2\n",
    "plt.scatter(k, acctest)\n",
    "  \n",
    "plt.errorbar(k, acctest, yerr=stdtest, fmt=\"-o\")\n",
    "plt.title(\"KNN using Testing Data\")\n",
    "plt.xlabel(\"K value\")\n",
    "plt.ylabel(\"Accuracy\")\n",
    "plt.show()"
   ]
  }
 ],
 "metadata": {
  "interpreter": {
   "hash": "aee8b7b246df8f9039afb4144a1f6fd8d2ca17a180786b69acc140d282b71a49"
  },
  "kernelspec": {
   "display_name": "Python 3.10.0 64-bit",
   "language": "python",
   "name": "python3"
  },
  "language_info": {
   "codemirror_mode": {
    "name": "ipython",
    "version": 3
   },
   "file_extension": ".py",
   "mimetype": "text/x-python",
   "name": "python",
   "nbconvert_exporter": "python",
   "pygments_lexer": "ipython3",
   "version": "3.10.0"
  },
  "orig_nbformat": 4
 },
 "nbformat": 4,
 "nbformat_minor": 2
}
