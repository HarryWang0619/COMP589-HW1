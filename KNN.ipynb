{
 "cells": [
  {
   "cell_type": "markdown",
   "metadata": {},
   "source": [
    "# COMPSCI 589 HW1\n",
    "\n",
    "#### Name: Haochen Wang"
   ]
  },
  {
   "cell_type": "markdown",
   "metadata": {},
   "source": [
    "### SECTION 0: Load Libraries"
   ]
  },
  {
   "cell_type": "code",
   "execution_count": 1,
   "metadata": {},
   "outputs": [],
   "source": [
    "import sklearn.model_selection\n",
    "from scipy import stats\n",
    "import numpy as np\n",
    "import csv\n",
    "import math\n",
    "import matplotlib.pyplot as plt\n",
    "from operator import itemgetter\n",
    "from collections import Counter"
   ]
  },
  {
   "cell_type": "markdown",
   "metadata": {},
   "source": [
    "### SECTION 1: Evaluating KNN"
   ]
  },
  {
   "cell_type": "code",
   "execution_count": 2,
   "metadata": {},
   "outputs": [],
   "source": [
    "#Load the Iris data file using python csv module\n",
    "\n",
    "knn_file = open('iris.csv')\n",
    "csvreader = csv.reader(knn_file)\n",
    "\n",
    "knnd = []\n",
    "for row in csvreader:\n",
    "        knnd.append(row)\n",
    "\n",
    "knndata = []\n",
    "for row in knnd:\n",
    "        c = []\n",
    "        c.append(float(row[0]))\n",
    "        c.append(float(row[1]))\n",
    "        c.append(float(row[2]))\n",
    "        c.append(float(row[3]))\n",
    "        c.append(row[4])\n",
    "        knndata.append(c)\n",
    "\n",
    "# print(knndata)\n"
   ]
  },
  {
   "cell_type": "code",
   "execution_count": 3,
   "metadata": {},
   "outputs": [],
   "source": [
    "# Implementing Helper functions\n",
    "\n",
    "# Normalize module\n",
    "def mini(col):\n",
    "    min = col[0]\n",
    "    for val in col:\n",
    "        if val < min:\n",
    "            min = val\n",
    "    return min\n",
    "\n",
    "def maxi(col):\n",
    "    max = col[0]\n",
    "    for val in col:\n",
    "        if val > max:\n",
    "            max = val\n",
    "    return max\n",
    "\n",
    "def normalizationall(col, max, min):\n",
    "    newarr = []\n",
    "    for val in col:\n",
    "        newarr.append((val-min)/(max-min)) \n",
    "    return newarr\n",
    "\n",
    "def normalization(col):\n",
    "    min = mini(col)\n",
    "    max = maxi(col)\n",
    "    newarr = []\n",
    "    for val in col:\n",
    "        newarr.append((val-min)/(max-min)) \n",
    "    return newarr, min, max\n",
    "\n",
    "def vote(arr):\n",
    "    return max(set(arr), key=arr.count)"
   ]
  },
  {
   "cell_type": "code",
   "execution_count": 4,
   "metadata": {},
   "outputs": [],
   "source": [
    "# Split the Training and Testing Data\n",
    "\n",
    "def split(dat, ranumber):\n",
    "    traknn, tesknn = sklearn.model_selection.train_test_split(dat, train_size=0.8, test_size=0.2, random_state=ranumber, shuffle=True)\n",
    "    return traknn, tesknn\n",
    "\n",
    "# trainknn, testknn = split(knndata, 589)"
   ]
  },
  {
   "cell_type": "code",
   "execution_count": 5,
   "metadata": {},
   "outputs": [],
   "source": [
    "# Euclidean distance\n",
    "\n",
    "def edistance(a, b):\n",
    "    a = np.array(a)\n",
    "    b = np.array(b)\n",
    "    s = np.linalg.norm(a - b)\n",
    "    return s\n",
    "\n",
    "# print(edistance([1,1,1,4],[5,5,5,2]))\n"
   ]
  },
  {
   "cell_type": "code",
   "execution_count": 6,
   "metadata": {},
   "outputs": [],
   "source": [
    "# KD-Tree\n",
    "\n",
    "# I will do it later if I have enough time."
   ]
  },
  {
   "cell_type": "code",
   "execution_count": 7,
   "metadata": {},
   "outputs": [],
   "source": [
    "# KNN Helpers\n",
    "\n",
    "# def seperate_d_c(data):\n",
    "#     dat = []\n",
    "#     cat = []\n",
    "#     all = []\n",
    "#     for row in data:\n",
    "#         da = []\n",
    "#         da.append(float(row[0]))\n",
    "#         da.append(float(row[1]))\n",
    "#         da.append(float(row[2]))\n",
    "#         da.append(float(row[3]))\n",
    "#         dat.append(da)\n",
    "#         al = da.copy()\n",
    "#         al.append(row[4])\n",
    "#         all.append(al)\n",
    "#         cat.append(row[4])\n",
    "        \n",
    "#     return dat, cat, all\n",
    "\n",
    "# trainknndata, trainknncat, ktr = seperate_d_c(trainknn)\n",
    "# testknndata, testknncat, kte = seperate_d_c(testknn)\n",
    "\n",
    "def transpose(dat):\n",
    "    a = []\n",
    "    a.append([row[0] for row in dat])\n",
    "    a.append([row[1] for row in dat])\n",
    "    a.append([row[2] for row in dat])\n",
    "    a.append([row[3] for row in dat])\n",
    "    if len(dat[0]) > 4:\n",
    "        a.append([row[4] for row in dat])\n",
    "    return a\n",
    "\n",
    "def normaltab(traindat, testdat):\n",
    "    trainnom = []\n",
    "    testnom = []\n",
    "    i = 0\n",
    "    for col in traindat:\n",
    "        trarr = []\n",
    "        tearr = []\n",
    "        if i < 4:\n",
    "            trarr, trmin, trmax = normalization(col)\n",
    "            tearr = normalizationall(testdat[i], trmax, trmin)\n",
    "            trainnom.append(trarr)\n",
    "            testnom.append(tearr)\n",
    "            i+=1\n",
    "    if len(traindat) == 5:\n",
    "        trainnom.append(traindat[4])\n",
    "        testnom.append(testdat[4])\n",
    "    return trainnom, testnom\n",
    "    \n",
    "def transback(dat):\n",
    "    ret = []\n",
    "    i = 0\n",
    "    while i < len(dat[0]):\n",
    "        row = []\n",
    "        for col in dat:\n",
    "            row.append(col[i])\n",
    "        ret.append(row)\n",
    "        i+=1\n",
    "    return ret\n",
    "\n",
    "def distarray(normpt, normeddat):\n",
    "    pt1 = normpt[:-1]\n",
    "    cat1 = normpt[-1]\n",
    "    disarray = []\n",
    "    for ins in normeddat:\n",
    "        pt2 = ins[:-1]\n",
    "        cat2 = ins[-1]\n",
    "        dis = edistance(pt1, pt2)\n",
    "        disarray.append([dis,cat2])\n",
    "    return sorted(disarray, key=itemgetter(0))\n",
    "\n",
    "def normflow(train, test):\n",
    "    ttrainknn = transpose(train)\n",
    "    ttestknn = transpose(test)\n",
    "    normttrain, normttest = normaltab(ttrainknn,ttestknn)\n",
    "    nrmtr, nrmte = transback(normttrain), transback(normttest)\n",
    "    return nrmtr, nrmte\n",
    "\n",
    "# we use normtr, normte.  stands for normal train & normal test."
   ]
  },
  {
   "cell_type": "code",
   "execution_count": 8,
   "metadata": {},
   "outputs": [],
   "source": [
    "#KNN\n",
    "\n",
    "def knn(k, traindat, testdat):\n",
    "    predict = []\n",
    "    correct = [col[-1] for col in testdat]\n",
    "    for datpt in testdat:\n",
    "        distlist = distarray(datpt, traindat)\n",
    "        catlist = [col[1] for col in distlist[:k]]\n",
    "        predict.append(vote(catlist))\n",
    "\n",
    "    return predict, correct\n",
    "\n",
    "def knntrains(k, rand, dat):\n",
    "    trainknn, testknn = split(dat, rand)\n",
    "    normedtrain, normedtest =normflow(trainknn, testknn)\n",
    "    predict, correct = knn(k, normedtrain, normedtest)\n",
    "    return predict, correct\n",
    "\n",
    "def knntraintrain(k, rand, dat):\n",
    "    trainknn, testknn = split(dat, rand)\n",
    "    normedtrain, normedtest =normflow(trainknn, testknn)\n",
    "    predict, correct = knn(k, normedtrain, normedtrain)\n",
    "    return predict, correct\n",
    "\n",
    "def accuracy(pred, corr):\n",
    "    i = 0\n",
    "    blist = []\n",
    "    while i < len(pred):\n",
    "        blist.append(pred[i]==corr[i])\n",
    "        i+=1\n",
    "    return (Counter(blist)[True])/len(blist)\n",
    "\n",
    "def kaccuracytest(k, r, data):\n",
    "    p, c = knntrains(k, r, data)\n",
    "    acc = accuracy(p, c)\n",
    "    return acc\n",
    "\n",
    "def kaccuracytrain(k, r, data):\n",
    "    p, c = knntraintrain(k, r, data)\n",
    "    acc = accuracy(p, c)\n",
    "    return acc\n",
    "\n",
    "# print(kaccuracytest(19, 589, knndata))\n",
    "# print(kaccuracytrain(19, 589, knndata))"
   ]
  },
  {
   "cell_type": "code",
   "execution_count": 9,
   "metadata": {},
   "outputs": [],
   "source": [
    "# The Statistical Process for the kNN\n",
    "def statdatatest(data):\n",
    "    k = 1\n",
    "    result_list = []\n",
    "    while k <= 51:\n",
    "        random = 11589\n",
    "        alist = []\n",
    "        while random < 11689:\n",
    "            alist.append(kaccuracytest(k, random, data))\n",
    "            random += 5\n",
    "        result_list.append(alist)\n",
    "        k+=2\n",
    "    \n",
    "    return np.array(result_list)\n",
    "\n",
    "def statdatatrain(data):\n",
    "    k = 1\n",
    "    result_list = []\n",
    "    while k <= 51:\n",
    "        random = 11589\n",
    "        alist = []\n",
    "        while random < 11689:\n",
    "            alist.append(kaccuracytrain(k, random, data))\n",
    "            random += 5\n",
    "        result_list.append(alist)\n",
    "        k+=2\n",
    "    \n",
    "    return np.array(result_list)\n",
    "\n",
    "# narray = statdatatest(knndata)\n",
    "# print(narray.std(axis=1))"
   ]
  },
  {
   "cell_type": "code",
   "execution_count": 10,
   "metadata": {},
   "outputs": [],
   "source": [
    "k = np.arange(1,52,2)\n",
    "narraytrain = statdatatrain(knndata)\n",
    "narraytest = statdatatest(knndata)\n",
    "acctrain = narraytrain.mean(axis=1)\n",
    "# print(acctrain)\n",
    "acctest = narraytest.mean(axis=1)\n",
    "stdtrain = narraytrain.std(axis=1)\n",
    "stdtest = narraytest.std(axis=1)\n",
    "# print(stdtrain)"
   ]
  },
  {
   "cell_type": "markdown",
   "metadata": {},
   "source": [
    "### Q1.1 (12 Points) \n",
    "##### In the first graph, you should show the value of k on the horizontal axis, and on the vertical axis, the average accuracy of models trained over the training set, given that particular value of k. Also show, for each point in the graph, the corresponding standard deviation; you should do this by adding error bars to each point. The graph should look like the one in Figure 2 (though the “shape” of the curve you obtain may be different, of course)."
   ]
  },
  {
   "cell_type": "code",
   "execution_count": 11,
   "metadata": {},
   "outputs": [
    {
     "data": {
      "image/png": "[encoded data removed]",
      "text/plain": [
       "<Figure size 432x288 with 1 Axes>"
      ]
     },
     "metadata": {
      "needs_background": "light"
     },
     "output_type": "display_data"
    }
   ],
   "source": [
    "# Q1.1\n",
    "# plt.scatter(k, acctrain)  \n",
    "plt.errorbar(k, acctrain, yerr=stdtrain, fmt=\"-o\", color = 'r', alpha = 0.6)\n",
    "plt.title(\"KNN using Training Data\")\n",
    "plt.xlabel(\"K value\")\n",
    "plt.ylabel(\"Accuracy\")\n",
    "plt.show()"
   ]
  },
  {
   "cell_type": "markdown",
   "metadata": {},
   "source": [
    "### Q1.2 (12 Points) \n",
    "##### In the second graph, you should show the value of k on the horizontal axis, and on the vertical axis, the average accuracy of models trained over the testing set, given that particular value of k. Also show, for each point in the graph, the corresponding standard deviation by adding error bars to the point.\n"
   ]
  },
  {
   "cell_type": "code",
   "execution_count": 12,
   "metadata": {},
   "outputs": [
    {
     "data": {
      "image/png": "[encoded data removed]",
      "text/plain": [
       "<Figure size 432x288 with 1 Axes>"
      ]
     },
     "metadata": {
      "needs_background": "light"
     },
     "output_type": "display_data"
    }
   ],
   "source": [
    "# Q1.2\n",
    "# plt.scatter(k, acctest)\n",
    "plt.errorbar(k, acctest, yerr=stdtest, fmt=\"-o\", color = 'blue', alpha = 0.6)\n",
    "plt.title(\"KNN using Testing Data\")\n",
    "plt.xlabel(\"K value\")\n",
    "plt.ylabel(\"Accuracy\")\n",
    "plt.show()"
   ]
  },
  {
   "cell_type": "code",
   "execution_count": 13,
   "metadata": {},
   "outputs": [],
   "source": [
    "# print(acctrain,stdtrain)\n",
    "# print(acctest,stdtest)\n",
    "# ww = np.percentile(acctest, 25, interpolation = 'midpoint')\n",
    "# print(ww)"
   ]
  },
  {
   "cell_type": "code",
   "execution_count": 14,
   "metadata": {},
   "outputs": [
    {
     "data": {
      "image/png": "[encoded data removed]",
      "text/plain": [
       "<Figure size 432x288 with 1 Axes>"
      ]
     },
     "metadata": {
      "needs_background": "light"
     },
     "output_type": "display_data"
    }
   ],
   "source": [
    "plt.errorbar(k, acctrain, yerr=stdtrain, fmt=\"-o\", color = 'red', alpha = 0.6, label= \"Train\")\n",
    "plt.errorbar(k, acctest, yerr=stdtest, fmt=\"-o\", color = 'blue', alpha = 0.6, label= \"Test\")\n",
    "plt.legend()\n",
    "plt.title(\"KNN using Testing vs. Training Data\")\n",
    "plt.xlabel(\"K value\")\n",
    "plt.ylabel(\"Accuracy\")\n",
    "plt.show()"
   ]
  },
  {
   "cell_type": "markdown",
   "metadata": {},
   "source": [
    "### Q1.3 (10 Points) \n",
    "##### Explain intuitively why each of these curves look the way they do. First, analyze the graph showing performance on the training set as a function of k. Why do you think the graph looks like that? Next, analyze the graph showing performance on the testing set as a function of k. Why do you think the graph looks like that?"
   ]
  },
  {
   "cell_type": "markdown",
   "metadata": {},
   "source": [
    "Answer:\n",
    "\n",
    "I. Analysis for performing under training set.\n",
    "\n",
    "The graph looks this way because for a small number of K in the KNN, taken the extremes as K=1 for example, there's a perfect match with accuacy 1. \n",
    "For the training data, the performance accuracy was around 0.96-0.97 for around k < 30 except than 1. When k is larger than 30, the performance accuarcy start decreasing with a larger slope. This can be also described more clearly with a regression model with the accuracy.\n",
    "My assumption is that the relation between Accuracy vs. K-Value is exponential declined. The larger k is, the faster the decline in accuarcy is. (d(accuarcy)/dk increases.)\n",
    "\n",
    "\n",
    "II. Analysis for performing undering testing set. \n",
    "\n",
    "The graph, as we can easily find out, have the same trait as the train set, expect for k=1. I assume the graph (accuracy) would varied similarly as K change as train set data. However, we can see that the fluctuation for testing data is larger than training function, so I assume here it might be due to the testing data isn't on the training list and the randomness make them on the border (It's a farfetched & weird explanation).\n",
    "But It"
   ]
  },
  {
   "cell_type": "markdown",
   "metadata": {},
   "source": [
    "### Q1.4 (8 Points) \n",
    "##### We say that a model is underfitting when it performs poorly on the training data (and most likely on the testing data as well). We say that a model is overfitting when it performs well on training data but it does not generalize to new instances. Identify and report the ranges of values of k for which k-NN is underfitting, and ranges of values of k for which k-NN is overfitting.\n"
   ]
  },
  {
   "cell_type": "markdown",
   "metadata": {},
   "source": [
    "Answer:\n",
    "\n",
    "(1- Underfitting for Training) For underfitting, I think when for the traindata, as I stated above, that would be when K>30, when the slope start to decrease at an accelerating rate. This shows that the model is not generalized enough for new data. (also because the k value was relatively too big for the overall dataset 30/150 was around 1/5. If we have 1000 instances for the iris data, I believe k = 30 would be a perfect value for k.)\n",
    "\n",
    "(2- Underfitting for Testing)  For k>30, the accuracy decreases faster and the error bar/ standard deviation is larger, hence show that the accuracy fluctuate a lot for k > 30, thus more evidence for underfitting.\n",
    "\n",
    "(3- Overfitting for Training) As for the overfitting k of with training set, I think probably for k < 5, Consider a example of k < 1 or k < 2 (although k = 2 haven't been tested, but since we already for k = 2 we have 1 correct answer/category, so the accuracy would be significantly higher than k=2 with testing data.)\n",
    "\n",
    "(4- Overfitting for Testing) Compare to the training data, we can clearly verify the result for Q1.4(3). For testing set, I don't think there's a lot overfitting, just around k < 5 for overfitting. For testing, because we don't have the testing data in the training model anymore, so when k is small there is a change the accuracy is not as high as the train data set."
   ]
  },
  {
   "cell_type": "markdown",
   "metadata": {},
   "source": [
    "### Q1.5 (8 Points) \n",
    "##### Based on the analyses made in the previous question, which value of k you would select if you were trying to fine-tune this algorithm so that it worked as well as possible in real life? Justify your answer.\n"
   ]
  },
  {
   "cell_type": "markdown",
   "metadata": {},
   "source": [
    "Answer:\n",
    "\n",
    "I would say I will record all categorization from k = 7 to 17, and then I will perform a statistic process on them and they can 'vote' the most likely category, and also would come up with a confidence interval to make the prediction more scientific and analysable.\n",
    "\n",
    "More generally, in this case k = 7 to 17 out of 120 train data would be count of number of 5% to 15% of the number of instances in the training model. So k = 0.05~0.15*(# of training instance) would be a preferrable number, not considering the time comsumption. \n",
    "\n",
    "If for one k value, I'd prefer k = 12 or 13 here, as a mean for 7 and 17 above, neigher underfitting nor overfitting."
   ]
  }
 ],
 "metadata": {
  "interpreter": {
   "hash": "aee8b7b246df8f9039afb4144a1f6fd8d2ca17a180786b69acc140d282b71a49"
  },
  "kernelspec": {
   "display_name": "Python 3.10.0 64-bit",
   "language": "python",
   "name": "python3"
  },
  "language_info": {
   "codemirror_mode": {
    "name": "ipython",
    "version": 3
   },
   "file_extension": ".py",
   "mimetype": "text/x-python",
   "name": "python",
   "nbconvert_exporter": "python",
   "pygments_lexer": "ipython3",
   "version": "3.10.0"
  },
  "orig_nbformat": 4
 },
 "nbformat": 4,
 "nbformat_minor": 2
}
