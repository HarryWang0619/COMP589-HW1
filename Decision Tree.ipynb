{
 "cells": [
  {
   "cell_type": "markdown",
   "metadata": {},
   "source": [
    "# COMPSCI 589 HW1\n",
    "\n",
    "#### Name: Haochen Wang"
   ]
  },
  {
   "cell_type": "markdown",
   "metadata": {},
   "source": [
    "### SECTION 0: Load Libraries"
   ]
  },
  {
   "cell_type": "code",
   "execution_count": 332,
   "metadata": {},
   "outputs": [],
   "source": [
    "import sklearn.model_selection\n",
    "import scipy\n",
    "import numpy as np\n",
    "import csv\n",
    "import math\n",
    "import matplotlib.pyplot as plt\n",
    "from operator import itemgetter\n",
    "from collections import Counter"
   ]
  },
  {
   "cell_type": "markdown",
   "metadata": {},
   "source": [
    "### SECTION 2: Evaluating Decision Tree"
   ]
  },
  {
   "cell_type": "code",
   "execution_count": 333,
   "metadata": {},
   "outputs": [],
   "source": [
    "# Import Document\n",
    "\n",
    "house_file = open('house_votes_84.csv', encoding='utf-8-sig')\n",
    "csvreader = csv.reader(house_file)\n",
    "houserows = []\n",
    "for row in csvreader:\n",
    "        houserows.append(row)\n",
    "\n",
    "hvcat = houserows[0]\n",
    "# print(housevotecat)\n",
    "\n",
    "housevotedat = np.array([[int(element) for element in row] for row in houserows[1:]])\n",
    "\n",
    "#print(len(housevotedat))"
   ]
  },
  {
   "cell_type": "code",
   "execution_count": 334,
   "metadata": {},
   "outputs": [],
   "source": [
    "# Node Class\n",
    "class Treenode:\n",
    "    label = \"\"\n",
    "    type = \"\"\n",
    "    subattributelist = []\n",
    "    \n",
    "\n",
    "    def __init__(self, label, type):\n",
    "        self.label = label\n",
    "        self.type = type\n"
   ]
  },
  {
   "cell_type": "code",
   "execution_count": 335,
   "metadata": {},
   "outputs": [],
   "source": [
    "# Define helper functions that I use in decision tree.\n",
    "\n",
    "def same(column):\n",
    "    return all(item == column[0] for item in column)\n",
    "\n",
    "def majority(column):\n",
    "    return np.argmax(np.bincount(column))\n",
    "\n",
    "# test = np.array([1,1,3,3,11,11])\n",
    "# same(test)\n",
    "# majority(test)"
   ]
  },
  {
   "cell_type": "code",
   "execution_count": 336,
   "metadata": {},
   "outputs": [
    {
     "name": "stdout",
     "output_type": "stream",
     "text": [
      "0.09090909090909091\n",
      "0.9090909090909091\n"
     ]
    },
    {
     "data": {
      "text/plain": [
       "0.4394969869215134"
      ]
     },
     "execution_count": 336,
     "metadata": {},
     "output_type": "execute_result"
    }
   ],
   "source": [
    "# Define three test criteria: \n",
    "\n",
    "def entropy(col):\n",
    "    dictcounter = dict(Counter(col))\n",
    "    values = list(dictcounter.values())\n",
    "    ent = 0\n",
    "    for value in values:\n",
    "        k = (value/sum(values))\n",
    "        print(k)\n",
    "        ent += -k*math.log(k,2)\n",
    "    return ent\n",
    "# ID3 - Entropy Gain \n",
    "\n",
    "def id3gain(father, list, listattribution):\n",
    "    best = listattribution[0]\n",
    "    \n",
    "    return best\n",
    "\n",
    "# C4.5 - Entrophy Ratio \n",
    "# CART - Gini Impurity\n",
    "test =  np.array([1,1,0,0,0,0,0,0,0,0,0,0])\n",
    "cc = dict(Counter(test))\n",
    "dd = list(cc.values())\n",
    "entropy(test)"
   ]
  },
  {
   "cell_type": "code",
   "execution_count": 337,
   "metadata": {},
   "outputs": [],
   "source": [
    "# Decision Tree\n",
    "def decisiontree(dataset, listattributes, type='id3'):\n",
    "    if type == \"id3\":\n",
    "        criteria = 1\n",
    "    elif type == \"c4.5\":\n",
    "        criteria = 2\n",
    "    elif type == \"cart\":\n",
    "        criteria = 3\n",
    "\n",
    "    node = Treenode(\"-1\",\"node\")\n",
    "\n",
    "    if same([row[-1] for row in dataset]):\n",
    "        node.type = \"leaf\"\n",
    "        node.label = row[-1]\n",
    "        return node\n",
    "    \n",
    "    if len(listattributes) == 0:\n",
    "        node.type = \"leaf\"\n",
    "        node.label = majority(dataset.T[-1])\n",
    "        return node\n",
    "\n",
    "    return"
   ]
  },
  {
   "cell_type": "code",
   "execution_count": null,
   "metadata": {},
   "outputs": [],
   "source": []
  }
 ],
 "metadata": {
  "interpreter": {
   "hash": "aee8b7b246df8f9039afb4144a1f6fd8d2ca17a180786b69acc140d282b71a49"
  },
  "kernelspec": {
   "display_name": "Python 3.10.0 64-bit",
   "language": "python",
   "name": "python3"
  },
  "language_info": {
   "codemirror_mode": {
    "name": "ipython",
    "version": 3
   },
   "file_extension": ".py",
   "mimetype": "text/x-python",
   "name": "python",
   "nbconvert_exporter": "python",
   "pygments_lexer": "ipython3",
   "version": "3.10.0"
  },
  "orig_nbformat": 4
 },
 "nbformat": 4,
 "nbformat_minor": 2
}
