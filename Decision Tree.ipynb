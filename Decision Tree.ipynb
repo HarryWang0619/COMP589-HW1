{
 "cells": [
  {
   "cell_type": "markdown",
   "metadata": {},
   "source": [
    "# COMPSCI 589 HW1\n",
    "\n",
    "#### Name: Haochen Wang"
   ]
  },
  {
   "cell_type": "markdown",
   "metadata": {},
   "source": [
    "### SECTION 0: Load Libraries"
   ]
  },
  {
   "cell_type": "code",
   "execution_count": 236,
   "metadata": {},
   "outputs": [],
   "source": [
    "import sklearn.model_selection\n",
    "import scipy\n",
    "import numpy as np\n",
    "import csv\n",
    "import math\n",
    "import matplotlib.pyplot as plt\n",
    "from operator import itemgetter\n",
    "from collections import Counter"
   ]
  },
  {
   "cell_type": "markdown",
   "metadata": {},
   "source": [
    "### SECTION 2: Evaluating Decision Tree"
   ]
  },
  {
   "cell_type": "code",
   "execution_count": 237,
   "metadata": {},
   "outputs": [],
   "source": [
    "# Import Document\n",
    "\n",
    "house_file = open('house_votes_84.csv', encoding='utf-8-sig')\n",
    "csvreader = csv.reader(house_file)\n",
    "houserows = []\n",
    "for row in csvreader:\n",
    "    houserows.append(row)\n",
    "\n",
    "hvcat = houserows[0]\n",
    "# print(housevotecat)\n",
    "\n",
    "def catindex(categoryname: str): # a small helper function\n",
    "    return hvcat.index(categoryname)\n",
    "\n",
    "#housevotedat = np.array([[int(element) for element in row] for row in houserows[1:]]).T\n",
    "housevotedat = np.array(houserows[1:]).astype(int)\n",
    "\n",
    "# print(len(housevotedat))"
   ]
  },
  {
   "cell_type": "code",
   "execution_count": 238,
   "metadata": {},
   "outputs": [],
   "source": [
    "# Split to test and training data.\n",
    "\n",
    "def split_test_train(data, rand):\n",
    "    housetra, housetes = sklearn.model_selection.train_test_split(data, train_size=0.8, test_size=0.2, random_state=rand, shuffle=True)\n",
    "    return housetra.T, housetes.T\n",
    "\n",
    "# housetrain, housetest = split_test_train(housevotedat, 11589)\n"
   ]
  },
  {
   "cell_type": "code",
   "execution_count": 239,
   "metadata": {},
   "outputs": [],
   "source": [
    "# Node Class\n",
    "class Treenode:\n",
    "    type = \"\"\n",
    "    label = None\n",
    "    testattribute = \"\"\n",
    "    edge = {}\n",
    "    majority = -1\n",
    "    # threshold = -1  We don't have numerical here.\n",
    "\n",
    "    def __init__(self, label, type):\n",
    "        self.label = label\n",
    "        self.type = type\n",
    "        # self.left = left\n",
    "        # self.right = right"
   ]
  },
  {
   "cell_type": "code",
   "execution_count": 240,
   "metadata": {},
   "outputs": [],
   "source": [
    "# Define helper functions that I use in decision tree.\n",
    "\n",
    "def same(column):\n",
    "    return all(item == column[0] for item in column)\n",
    "\n",
    "def majority(column):\n",
    "    return np.argmax(np.bincount(column))\n",
    "\n",
    "def entropy(col):\n",
    "    values = list(Counter(col).values())\n",
    "    ent = 0\n",
    "    for value in values:\n",
    "        k = (value/sum(values))\n",
    "        ent += -k*math.log(k,2)\n",
    "    return ent\n",
    "\n",
    "def gini(col):\n",
    "    values = list(Counter(col).values())\n",
    "    ginivalue = 1\n",
    "    for value in values:\n",
    "        prob = (value/sum(values))\n",
    "        ginivalue -= prob**2\n",
    "    return ginivalue\n",
    "\n",
    "# test = np.array([1,1,3,3,11,11])\n",
    "# same(test)\n",
    "# majority(test)\n",
    "\n",
    "# test1 = np.array([1,1,0,0,0]) # should get entropy .971, gini .48\n",
    "# test2 = np.array([1,1,1,1,1,0,0,0,0,0,0,0,0,0]) # should get entropy .940, gini.459\n",
    "# entropy(test2)\n",
    "# gini(test2)"
   ]
  },
  {
   "cell_type": "code",
   "execution_count": 241,
   "metadata": {},
   "outputs": [],
   "source": [
    "# Define three test criteria: \n",
    "    \n",
    "# ID3 - Entropy Gain \n",
    "\n",
    "def id3(collist, listattribution):\n",
    "    original_ent = entropy(collist[-1])\n",
    "    smallest_ent = 1\n",
    "    i = 0\n",
    "\n",
    "    # bestindex = i\n",
    "    best = listattribution[i]\n",
    "    for attributes in listattribution[:-1]: # I keep the last column: the target/label.\n",
    "        liskey = list(Counter(collist[i]).keys())\n",
    "        listofcategory = []\n",
    "        for value in liskey:\n",
    "            index = [idx for idx, element in enumerate(collist[i]) if element == value]\n",
    "            category = np.array(collist[-1][index]) \n",
    "            listofcategory.append(category) # list of nparrays of target/label/categories.\n",
    "\n",
    "        ent = 0\n",
    "        for cat in listofcategory:\n",
    "            a = len(cat)/len(collist[i]) # This is probability\n",
    "            ent += a * entropy(cat) # probability multiple by entropy\n",
    "\n",
    "        if ent < smallest_ent:\n",
    "            smallest_ent = ent\n",
    "            best = attributes\n",
    "            # bestindex = i\n",
    "        i+=1\n",
    "\n",
    "    return best, original_ent-ent\n",
    "\n",
    "# C4.5 - Entrophy Ratio \n",
    "# CART - Gini Impurity\n",
    "def cart(collist, listattribution):\n",
    "    smallest_gini = 1\n",
    "    i = 0\n",
    "    # bestindex = i\n",
    "    best = listattribution[i]\n",
    "    for attributes in listattribution[:-1]: # I keep the last column: the target/label.\n",
    "        liskey = list(Counter(collist[i]).keys())\n",
    "        listofcategory = []\n",
    "        for value in liskey:\n",
    "            index = [idx for idx, element in enumerate(collist[i]) if element == value]\n",
    "            category = np.array(collist[-1][index]) \n",
    "            listofcategory.append(category) # list of nparrays of target/label/categories.\n",
    "\n",
    "        gin = 0\n",
    "        for cat in listofcategory:\n",
    "            a = len(cat)/len(collist[i]) # This is probability\n",
    "            gin += a * gini(cat) # probability multiple by gini\n",
    "\n",
    "        if gin < smallest_gini:\n",
    "            smallest_gini = gin\n",
    "            best = attributes\n",
    "            # bestindex = i\n",
    "        i+=1\n",
    "\n",
    "    return best, gin\n",
    "    "
   ]
  },
  {
   "cell_type": "code",
   "execution_count": 242,
   "metadata": {},
   "outputs": [],
   "source": [
    "# Decision Tree\n",
    "def decisiontree(dataset: np.array, listattributes: list, algortype: str ='id3'):\n",
    "    def processbest(algor):\n",
    "        if algor == \"id3\" or algor == \"infogain\":\n",
    "            return id3(datasetcopy, listattricopy)\n",
    "        elif algor == \"cart\" or algor == \"gini\":\n",
    "            return cart(datasetcopy, listattricopy)\n",
    "        else: \n",
    "            return cart(datasetcopy, listattricopy)\n",
    "\n",
    "    datasetcopy = np.copy(dataset)\n",
    "    listattricopy = listattributes.copy()\n",
    "    \n",
    "    node = Treenode(label=-1,type=\"decision\")\n",
    "\n",
    "    node.majority = majority(datasetcopy[-1])\n",
    "\n",
    "    if same(datasetcopy[-1]):\n",
    "        node.type = \"leaf\"\n",
    "        node.label = datasetcopy[-1][0]\n",
    "        return node\n",
    "    \n",
    "    if len(listattricopy) == 0:\n",
    "        node.type = \"leaf\"\n",
    "        node.label = majority(datasetcopy[-1])\n",
    "        return node\n",
    "\n",
    "    bestattribute = processbest(algortype)[0]\n",
    "    node.testattribute = bestattribute\n",
    "    bindex = listattricopy.index(bestattribute)\n",
    "\n",
    "    bigv = list(Counter(datasetcopy[bindex]).keys())\n",
    "\n",
    "    subdatalists = []\n",
    "    for smallv in bigv:\n",
    "        index = [idx for idx, element in enumerate(datasetcopy[bindex]) if element == smallv]\n",
    "        subdatav = np.array(datasetcopy.T[index]).T\n",
    "        subdatav = np.delete(subdatav,bindex,0)  # I delete the column I already used using bindex as reference. \n",
    "        # Then, later, pop the same index from list attribute.\n",
    "        subdatalists.append(subdatav) # list of nparrays of target/label/categories.\n",
    "\n",
    "    listattricopy.pop(bindex)\n",
    "    \n",
    "    edge = {}\n",
    "    sdindex = 0\n",
    "    for subvdata in subdatalists:\n",
    "        if subvdata.size == 0:\n",
    "            node.type = \"leaf\"\n",
    "            node.label = majority(subdatav[-1])\n",
    "\n",
    "        subtree = decisiontree(subvdata, listattricopy, algortype)\n",
    "        attributevalue = bigv[sdindex]\n",
    "        edge[attributevalue] = subtree\n",
    "        sdindex += 1\n",
    "\n",
    "    node.edge = edge\n",
    "\n",
    "    return node"
   ]
  },
  {
   "cell_type": "code",
   "execution_count": 243,
   "metadata": {},
   "outputs": [],
   "source": [
    "# Prediction using tree\n",
    "\n",
    "def prediction(tree: Treenode, instance): # note that the instance if by row. (I formerly used by column)\n",
    "    predict = tree.majority\n",
    "    correct = instance[-1]\n",
    "    if tree.type == 'leaf':\n",
    "        predict = tree.label\n",
    "        return predict==correct, predict, correct\n",
    "\n",
    "    testindex = catindex(tree.testattribute)\n",
    "\n",
    "    if instance[testindex] not in tree.edge:\n",
    "        return predict==correct, predict, correct\n",
    " \n",
    "    nexttree = tree.edge[instance[testindex]]\n",
    "\n",
    "    return prediction(nexttree, instance)\n",
    "    "
   ]
  },
  {
   "cell_type": "code",
   "execution_count": 244,
   "metadata": {},
   "outputs": [],
   "source": [
    "# Test with one instance\n",
    "\n",
    "# instance1 = np.array([1,2,2,1,1,1,2,2,2,1,1,1,2,1,0,0,0])\n",
    "# print(firsttree.edge[0].edge[2].edge[2].type)\n",
    "# print(prediction(firsttree,instance1))\n",
    "# print(len(housetest.T))\n",
    "\n",
    "def oneaccurcy(data,treeuse):\n",
    "    yescount = 0\n",
    "    for ins in data.T:\n",
    "        if prediction(treeuse,ins)[0]: yescount+=1\n",
    "    return yescount/len(data.T)\n",
    "\n",
    "\n",
    "# housetrain, housetest = split_test_train(housevotedat, 608)\n",
    "# firsttree = decisiontree(housetrain, hvcat, 'id3')\n",
    "# print(oneaccurcy(housetest,firsttree))\n",
    "# housetrain, housetest = split_test_train(housevotedat, 201589)\n",
    "# secondtree = decisiontree(housetrain, hvcat, 'id3')\n",
    "# print(oneaccurcy(housetest,secondtree))\n",
    "\n",
    "def manyaccuarcy(datause: str, algorithm: str, rand2number):\n",
    "    accuracylist = []\n",
    "    count = 1\n",
    "    while count <= 100:\n",
    "        # print(count)\n",
    "        housetrain, housetest = split_test_train(housevotedat, 589+rand2number*count)\n",
    "        traintree = decisiontree(housetrain, hvcat, algorithm)\n",
    "        # print(traintree.edge[0].edge)\n",
    "        if datause == 'traindata' or datause == 'train':\n",
    "            oc = oneaccurcy(housetrain,traintree)\n",
    "        elif datause == 'testdata' or datause == 'test':\n",
    "            oc = oneaccurcy(housetest,traintree)\n",
    "        accuracylist.append(oc)\n",
    "        count+=1\n",
    "\n",
    "    return accuracylist\n"
   ]
  },
  {
   "cell_type": "code",
   "execution_count": 245,
   "metadata": {},
   "outputs": [],
   "source": [
    "# Plot the graphs\n",
    "def plothist(testortrain,algor,rand2,clor= 'purple'):\n",
    "    if algor != 'all' and not (testortrain == 'train' or testortrain == 'traindata'):\n",
    "        plotlist = np.array(manyaccuarcy(testortrain,algor,rand2))\n",
    "        print('The mean accuracy is ' + str(plotlist.mean()) + ', and the std is '+ str(plotlist.std()))\n",
    "        # print(plotlist)\n",
    "        plt.hist(plotlist,density=1, bins=10, color=clor, alpha=0.5) \n",
    "        plt.axis([0.65, 1.1, 0, 30]) \n",
    "        #[xmin,xmax,ymin,ymax]\n",
    "        plt.ylabel('Accuarcy Frequency On '+ testortrain +' Data')\n",
    "        plt.xlabel('Accuracy')\n",
    "        plt.title(\"Decision Tree Using \"+testortrain+ \" Data With \" + algor + \" Algorithm\")\n",
    "        plt.show()\n",
    "        return\n",
    "    elif algor == 'all':\n",
    "        plotlistid3 = np.array(manyaccuarcy(testortrain,'id3',rand2))\n",
    "        plotlistcart = np.array(manyaccuarcy(testortrain,'cart',rand2))\n",
    "        print('For ID3/infogain, The mean accuracy is ' + str(plotlistid3.mean()) + ', and the std is '+ str(plotlistid3.std()))\n",
    "        print('For CART/gini, The mean accuracy is ' + str(plotlistcart.mean()) + ', and the std is '+ str(plotlistcart.std()))\n",
    "        # print(plotlist)\n",
    "        plt.hist(plotlistid3,density=1, bins=10, color=clor, alpha=0.4, label=\"id3\") \n",
    "        plt.hist(plotlistcart,density=1, bins=10, color='yellow', alpha=0.4, label='cart') \n",
    "        plt.legend()\n",
    "        plt.axis([0.65, 1.1, 0, 30]) \n",
    "        #[xmin,xmax,ymin,ymax]\n",
    "        plt.ylabel('Accuarcy Frequency On '+ testortrain +' Data')\n",
    "        plt.xlabel('Accuracy')\n",
    "        plt.title(\"Decision Tree Using \"+testortrain+ \" Data With Comparasion of Two Algorithms\")\n",
    "        plt.show()\n",
    "        return\n",
    "    if testortrain == 'train' or testortrain == 'traindata':\n",
    "        plotlist = np.array(manyaccuarcy(testortrain,algor,rand2))\n",
    "        print('The mean accuracy is ' + str(plotlist.mean()) + ', and the std is '+ str(plotlist.std()))\n",
    "        # print(plotlist)\n",
    "        plt.hist(plotlist,density=1, bins=100, color=clor, alpha=0.5) \n",
    "        plt.axis([0.8, 1.2, 0, 150]) \n",
    "        #[xmin,xmax,ymin,ymax]\n",
    "        plt.ylabel('Accuarcy Frequency On '+ testortrain +' Data')\n",
    "        plt.xlabel('Accuracy')\n",
    "        plt.title(\"Decision Tree Using \"+testortrain+ \" Data With \" + algor + \" Algorithm\")\n",
    "        plt.show()\n",
    "    return\n",
    "\n",
    "# plothist('test', 'cart', 197, 'blue')\n",
    "# plothist('test', 'all', 397)"
   ]
  },
  {
   "cell_type": "markdown",
   "metadata": {},
   "source": [
    "### Q2.1 (12 Points) \n",
    "##### In the first histogram, you should show the accuracy distribution when the algorithm was evaluated over training data. The horizontal axis should show different accuracy values, and the vertical axis should show the frequency with which that accuracy was observed while conducting these 100 experiments/training processes. The histogram should look like the one in Figure 3 (though the “shape” of the histogram you obtain may be different, of course). You should also report the mean accuracy and its standard deviation.\n"
   ]
  },
  {
   "cell_type": "code",
   "execution_count": 246,
   "metadata": {},
   "outputs": [
    {
     "name": "stdout",
     "output_type": "stream",
     "text": [
      "The mean accuracy is 1.0, and the std is 0.0\n"
     ]
    },
    {
     "data": {
      "image/png": "[encoded data removed]",
      "text/plain": [
       "<Figure size 432x288 with 1 Axes>"
      ]
     },
     "metadata": {
      "needs_background": "light"
     },
     "output_type": "display_data"
    }
   ],
   "source": [
    "plothist('train', 'id3', 197, 'blue')\n",
    "# plothist('test', 'all', 397)"
   ]
  },
  {
   "cell_type": "markdown",
   "metadata": {},
   "source": [
    "### Q2.2 (12 Points) \n",
    "##### In the second histogram, you should show the accuracy distribution when the algorithm was evaluated over testing data. The horizontal axis should show different accuracy values, and the vertical axis should show the frequency with which that accuracy was observed while conducting these 100 experiments/training processes. You should also report the mean accuracy and its standard deviation."
   ]
  },
  {
   "cell_type": "code",
   "execution_count": 247,
   "metadata": {},
   "outputs": [
    {
     "name": "stdout",
     "output_type": "stream",
     "text": [
      "The mean accuracy is 0.9410344827586203, and the std is 0.02392655119376817\n"
     ]
    },
    {
     "data": {
      "image/png": "[encoded data removed]",
      "text/plain": [
       "<Figure size 432x288 with 1 Axes>"
      ]
     },
     "metadata": {
      "needs_background": "light"
     },
     "output_type": "display_data"
    }
   ],
   "source": [
    "plothist('test', 'id3', 397, 'green')"
   ]
  },
  {
   "cell_type": "markdown",
   "metadata": {},
   "source": [
    "### Q2.3 (12 Points) \n",
    "##### Explain intuitively why each of these histograms look the way they do. Is there more variance in one of the histograms? If so, why do you think that is the case? Does one histogram show higher average accuracy than the other? If so, why do you think that is the case?\n"
   ]
  },
  {
   "cell_type": "markdown",
   "metadata": {},
   "source": [
    "Answer:\n",
    "\n",
    "It is very apparent that, comparing the result of testing and the training data vs. the accuracy. In the aspect of variance, it's clear that the traverse of training data using decision tree model trained using training dataset is less variant, with mean accuracy is 1.0, and the std is 0.0. That means for all instance in training item, we are able to get the correct prediction. While for the accuracy, the training data is very accurate, indeed, it's 100% accurate. This is the case because since the instance of training data is always on the list, so the way we traverse the tree is exactly the same the way we trained it, hence 1.00 accuracy.\n",
    "\n",
    "And for the testing data instance is The mean accuracy is 0.9410344827586203, and the std is 0.02392655119376817. Obviously more variance because larget std, but still not very big: range between 0.89 to 0.99, mean around 0.94, which is a very acceptable prediction result for me. It's less accurate because there are probably some instance that are outliers, or the tree running out of the subnode so we use the 'majority' vote way to determine the label."
   ]
  },
  {
   "cell_type": "markdown",
   "metadata": {},
   "source": [
    "### Q2.4 (8 Points) \n",
    "##### By comparing the two histograms, would you say that the Decision Trees algorithm, when used in this dataset, is underfitting, overfitting, or performing reasonably well? Explain your reasoning.\n"
   ]
  },
  {
   "cell_type": "markdown",
   "metadata": {},
   "source": [
    "Answer: \n",
    "\n",
    "For the training dataset, I would say it is definitely overfitting, since we have 100% accuracy, which is almost impossible in real world. The decision tree fit too many attributes of the tree which would cause larger space complexity if the data is more than 17 attribute we are having in the example mini dataset. \n",
    "\n",
    "For the testing dataset, though I'd like to say it's performing reasonably well, there's still a little portion that the result is overfitting: if we restrict the layer of the decision tree, so we might have sub....treenode entropy not equal zero, that would be more realistic in realworld, since if there is one branch/one leaf node that have very deep layer, even though that might give us the correct result, but the process could consider to be redundant, hence might be overfitting.\n"
   ]
  },
  {
   "cell_type": "markdown",
   "metadata": {},
   "source": [
    "### Q2.5 (6 Points) \n",
    "##### In class, we discussed how Decision Trees might be non-robust. Is it possible to experimentally confirm this property/tendency via these experiments, by analyzing the histograms you generated and their corresponding average accuracies and standard deviations? Explain your reasoning."
   ]
  },
  {
   "cell_type": "markdown",
   "metadata": {},
   "source": [
    "Answer:\n",
    "\n",
    "In fact, if check on the gini part and the compariasion part below, we can find out the result varies with std around 0.02±0.005. Even though that might be small, but since we hav eall the data from the same 435 datas, the only difference is how we shuffle them again and again, so we can tell there's no large difference between all the reshuffles (Not like, for example trees in Europe and Trees in America and trees in Asia, which might have huge difference). All the data are from same 435 instance and say if we reshuffle them perfectly, for the training data, the tree would have at least 261 instances being the same as last shuffle. In average there should be only about 49 instance that are difference from last shuffle. But giving this, we can still find out that the result range from 0.89 to 0.99, hence that could show us that decision trees might be non-robust or less abstracly decribe, non-stable."
   ]
  },
  {
   "cell_type": "markdown",
   "metadata": {},
   "source": [
    "### Extra points (15 Points) \n",
    "##### Repeat the experiment above but now using the Gini criterion for node splitting, instead of the Information Gain criterion."
   ]
  },
  {
   "cell_type": "code",
   "execution_count": 249,
   "metadata": {},
   "outputs": [
    {
     "name": "stdout",
     "output_type": "stream",
     "text": [
      "The mean accuracy is 1.0, and the std is 0.0\n"
     ]
    },
    {
     "data": {
      "image/png": "[encoded data removed]",
      "text/plain": [
       "<Figure size 432x288 with 1 Axes>"
      ]
     },
     "metadata": {
      "needs_background": "light"
     },
     "output_type": "display_data"
    },
    {
     "name": "stdout",
     "output_type": "stream",
     "text": [
      "The mean accuracy is 0.9408045977011491, and the std is 0.023744745126567355\n"
     ]
    },
    {
     "data": {
      "image/png": "[encoded data removed]",
      "text/plain": [
       "<Figure size 432x288 with 1 Axes>"
      ]
     },
     "metadata": {
      "needs_background": "light"
     },
     "output_type": "display_data"
    },
    {
     "name": "stdout",
     "output_type": "stream",
     "text": [
      "For ID3/infogain, The mean accuracy is 0.9395402298850576, and the std is 0.022146654444370282\n",
      "For CART/gini, The mean accuracy is 0.93816091954023, and the std is 0.02167390653149791\n"
     ]
    },
    {
     "data": {
      "image/png": "[encoded data removed]",
      "text/plain": [
       "<Figure size 432x288 with 1 Axes>"
      ]
     },
     "metadata": {
      "needs_background": "light"
     },
     "output_type": "display_data"
    },
    {
     "name": "stdout",
     "output_type": "stream",
     "text": [
      "Now try compare Gini/CART with InfoGain/ID3 with another random value: 245.\n",
      "For ID3/infogain, The mean accuracy is 0.9397701149425286, and the std is 0.019514519935360193\n",
      "For CART/gini, The mean accuracy is 0.9399999999999998, and the std is 0.018927513298836497\n"
     ]
    },
    {
     "data": {
      "image/png": "[encoded data removed]",
      "text/plain": [
       "<Figure size 432x288 with 1 Axes>"
      ]
     },
     "metadata": {
      "needs_background": "light"
     },
     "output_type": "display_data"
    },
    {
     "name": "stdout",
     "output_type": "stream",
     "text": [
      "Now try compare Gini/CART with InfoGain/ID3 with another random value: 589.\n",
      "For ID3/infogain, The mean accuracy is 0.9389655172413792, and the std is 0.024312178947685965\n",
      "For CART/gini, The mean accuracy is 0.9375862068965516, and the std is 0.022772258772165557\n"
     ]
    },
    {
     "data": {
      "image/png": "[encoded data removed]",
      "text/plain": [
       "<Figure size 432x288 with 1 Axes>"
      ]
     },
     "metadata": {
      "needs_background": "light"
     },
     "output_type": "display_data"
    }
   ],
   "source": [
    "plothist('train', 'gini', 197, 'blue')\n",
    "plothist('test', 'gini', 397, 'green')\n",
    "plothist('test', 'all', 691)\n",
    "print('Now try compare Gini/CART with InfoGain/ID3 with another random value: 245.')\n",
    "plothist('test', 'all', 246)\n",
    "print('Now try compare Gini/CART with InfoGain/ID3 with another random value: 589.')\n",
    "plothist('test', 'all', 589)"
   ]
  },
  {
   "cell_type": "markdown",
   "metadata": {},
   "source": [
    "We can roughly find out that the id3/infoGain and cart/gini gives similar accuracy, and the similar performance. But comparatively, gini seems to have smaller std than infoGain, hence less variant and probably less non-robust."
   ]
  }
 ],
 "metadata": {
  "interpreter": {
   "hash": "aee8b7b246df8f9039afb4144a1f6fd8d2ca17a180786b69acc140d282b71a49"
  },
  "kernelspec": {
   "display_name": "Python 3.10.0 64-bit",
   "language": "python",
   "name": "python3"
  },
  "language_info": {
   "codemirror_mode": {
    "name": "ipython",
    "version": 3
   },
   "file_extension": ".py",
   "mimetype": "text/x-python",
   "name": "python",
   "nbconvert_exporter": "python",
   "pygments_lexer": "ipython3",
   "version": "3.10.0"
  },
  "orig_nbformat": 4
 },
 "nbformat": 4,
 "nbformat_minor": 2
}
