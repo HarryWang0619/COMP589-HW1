{
 "cells": [
  {
   "cell_type": "markdown",
   "metadata": {},
   "source": [
    "# COMPSCI 589 HW1\n",
    "\n",
    "#### Name: Haochen Wang"
   ]
  },
  {
   "cell_type": "markdown",
   "metadata": {},
   "source": [
    "### SECTION 0: Load Libraries"
   ]
  },
  {
   "cell_type": "code",
   "execution_count": 1165,
   "metadata": {},
   "outputs": [],
   "source": [
    "import sklearn.model_selection\n",
    "import scipy\n",
    "import numpy as np\n",
    "import csv\n",
    "import math\n",
    "import matplotlib.pyplot as plt\n",
    "from operator import itemgetter\n",
    "from collections import Counter"
   ]
  },
  {
   "cell_type": "markdown",
   "metadata": {},
   "source": [
    "### SECTION 2: Evaluating Decision Tree"
   ]
  },
  {
   "cell_type": "code",
   "execution_count": 1166,
   "metadata": {},
   "outputs": [
    {
     "name": "stdout",
     "output_type": "stream",
     "text": [
      "['handicapped-infants', 'water-project-cost-sharing', 'adoption-of-the-budget-resolution', 'physician-fee-freeze', 'el-salvador-adi', 'religious-groups-in-schools', 'anti-satellite-test-ban', 'aid-to-nicaraguan-contras', 'mx-missile', 'immigration', 'synfuels-corporation-cutback', 'education-spending', 'superfund-right-to-sue', 'crime', 'duty-free-exports', 'export-administration-act-south-africa', 'target']\n"
     ]
    }
   ],
   "source": [
    "# Import Document\n",
    "\n",
    "house_file = open('house_votes_84.csv', encoding='utf-8-sig')\n",
    "csvreader = csv.reader(house_file)\n",
    "houserows = []\n",
    "for row in csvreader:\n",
    "        houserows.append(row)\n",
    "\n",
    "hvcat = houserows[0]\n",
    "# print(housevotecat)\n",
    "\n",
    "housevotedat = np.array([[int(element) for element in row] for row in houserows[1:]]).T\n",
    "\n",
    "print(hvcat)"
   ]
  },
  {
   "cell_type": "code",
   "execution_count": 1167,
   "metadata": {},
   "outputs": [],
   "source": [
    "# Node Class\n",
    "class Treenode:\n",
    "    label = \"\"\n",
    "    type = \"\"\n",
    "    testattribute = \"\"\n",
    "    \n",
    "    \n",
    "\n",
    "    def __init__(self, label, type):\n",
    "        self.label = label\n",
    "        self.type = type\n"
   ]
  },
  {
   "cell_type": "code",
   "execution_count": 1168,
   "metadata": {},
   "outputs": [],
   "source": [
    "# Define helper functions that I use in decision tree.\n",
    "\n",
    "def same(column):\n",
    "    return all(item == column[0] for item in column)\n",
    "\n",
    "def majority(column):\n",
    "    return np.argmax(np.bincount(column))\n",
    "\n",
    "def entropy(col):\n",
    "    values = list(Counter(col).values())\n",
    "    ent = 0\n",
    "    for value in values:\n",
    "        k = (value/sum(values))\n",
    "        ent += -k*math.log(k,2)\n",
    "    return ent\n",
    "\n",
    "def gini(col):\n",
    "    values = list(Counter(col).values())\n",
    "    ginivalue = 1\n",
    "    for value in values:\n",
    "        prob = (value/sum(values))\n",
    "        ginivalue -= prob**2\n",
    "    return ginivalue\n",
    "\n",
    "# test = np.array([1,1,3,3,11,11])\n",
    "# same(test)\n",
    "# majority(test)\n",
    "\n",
    "# test1 = np.array([1,1,0,0,0]) # should get entropy .971, gini .48\n",
    "# test2 = np.array([1,1,1,1,1,0,0,0,0,0,0,0,0,0]) # should get entropy .940, gini.459\n",
    "# entropy(test2)"
   ]
  },
  {
   "cell_type": "code",
   "execution_count": 1169,
   "metadata": {},
   "outputs": [
    {
     "data": {
      "text/plain": [
       "('physician-fee-freeze', 0.10197914174914247)"
      ]
     },
     "execution_count": 1169,
     "metadata": {},
     "output_type": "execute_result"
    }
   ],
   "source": []
  },
  {
   "cell_type": "code",
   "execution_count": 1170,
   "metadata": {},
   "outputs": [],
   "source": [
    "# Define three test criteria: \n",
    "    \n",
    "# ID3 - Entropy Gain \n",
    "\n",
    "def id3(collist, listattribution):\n",
    "    original_ent = entropy(collist[-1])\n",
    "    smallest_ent = 1\n",
    "    i = 0\n",
    "    # bestindex = i\n",
    "    best = listattribution[i]\n",
    "    for attributes in listattribution[:-1]: # I keep the last column: the target/label.\n",
    "        liskey = list(Counter(collist[i]).keys())\n",
    "        listofcategory = []\n",
    "        for value in liskey:\n",
    "            index = [idx for idx, element in enumerate(collist[i]) if element == value]\n",
    "            category = np.array(collist[-1][index]) \n",
    "            listofcategory.append(category) # list of nparrays of target/label/categories.\n",
    "\n",
    "        ent = 0\n",
    "        for cat in listofcategory:\n",
    "            a = len(cat)/len(collist[i]) # This is probability\n",
    "            ent += a * entropy(cat) # probability multiple by entropy\n",
    "\n",
    "        if ent < smallest_ent:\n",
    "            smallest_ent = ent\n",
    "            best = attributes\n",
    "            # bestindex = i\n",
    "        i+=1\n",
    "\n",
    "    return best, original_ent-ent\n",
    "\n",
    "# C4.5 - Entrophy Ratio \n",
    "# CART - Gini Impurity\n",
    "def cart(collist, listattribution):\n",
    "    smallest_gini = 1\n",
    "    i = 0\n",
    "    # bestindex = i\n",
    "    best = listattribution[i]\n",
    "    for attributes in listattribution[:-1]: # I keep the last column: the target/label.\n",
    "        liskey = list(Counter(collist[i]).keys())\n",
    "        listofcategory = []\n",
    "        for value in liskey:\n",
    "            index = [idx for idx, element in enumerate(collist[i]) if element == value]\n",
    "            category = np.array(collist[-1][index]) \n",
    "            listofcategory.append(category) # list of nparrays of target/label/categories.\n",
    "\n",
    "        gin = 0\n",
    "        for cat in listofcategory:\n",
    "            a = len(cat)/len(collist[i]) # This is probability\n",
    "            gin += a * gini(cat) # probability multiple by gini\n",
    "\n",
    "        if gin < smallest_gini:\n",
    "            smallest_gini = gin\n",
    "            best = attributes\n",
    "            # bestindex = i\n",
    "        i+=1\n",
    "\n",
    "    return best, gin\n",
    "    "
   ]
  },
  {
   "cell_type": "code",
   "execution_count": 1171,
   "metadata": {},
   "outputs": [
    {
     "name": "stdout",
     "output_type": "stream",
     "text": [
      "[1, 4]\n"
     ]
    }
   ],
   "source": [
    "a_list = [1, 4, 49, 23, 4, 23]\n",
    "output = [idx for idx, element in enumerate(a_list) if element == 4]\n",
    "print(output)"
   ]
  },
  {
   "cell_type": "code",
   "execution_count": 1172,
   "metadata": {},
   "outputs": [],
   "source": [
    "# Decision Tree\n",
    "def decisiontree(dataset, listattributes, type='id3'):\n",
    "    def processbest():\n",
    "        if type == \"id3\":\n",
    "            return id3(dataset, listattributes)\n",
    "        elif type == \"cart\":\n",
    "            return cart(dataset, listattributes)\n",
    "        else: \n",
    "            return cart(dataset, listattributes)\n",
    "\n",
    "    node = Treenode(\"-1\",\"decision\")\n",
    "\n",
    "    if same(dataset[-1]):\n",
    "        node.type = \"leaf\"\n",
    "        node.label = dataset[-1][0]\n",
    "        return node\n",
    "    \n",
    "    if len(listattributes) == 0:\n",
    "        node.type = \"leaf\"\n",
    "        node.label = majority(dataset[-1])\n",
    "        return node\n",
    "\n",
    "    bestattribute = processbest()[0]\n",
    "    node.testattribute = bestattribute\n",
    "    bindex = dataset.index(bestattribute)\n",
    "\n",
    "    bigv = Counter(dataset[bindex]).keys()\n",
    "    \n",
    "\n",
    "    listattributes.pop(bindex)\n",
    "    dataset.pop(bindex)\n",
    "    \n",
    "\n",
    "\n",
    "    return"
   ]
  },
  {
   "cell_type": "code",
   "execution_count": 1177,
   "metadata": {},
   "outputs": [
    {
     "data": {
      "text/plain": [
       "dict_keys([1, 2, 34, 3, 10])"
      ]
     },
     "execution_count": 1177,
     "metadata": {},
     "output_type": "execute_result"
    }
   ],
   "source": [
    "t = [1,2,34,2,2,3,2,1,2,1,1,1,1,1,1,1,10]\n",
    "Counter(t).keys()"
   ]
  }
 ],
 "metadata": {
  "interpreter": {
   "hash": "aee8b7b246df8f9039afb4144a1f6fd8d2ca17a180786b69acc140d282b71a49"
  },
  "kernelspec": {
   "display_name": "Python 3.10.0 64-bit",
   "language": "python",
   "name": "python3"
  },
  "language_info": {
   "codemirror_mode": {
    "name": "ipython",
    "version": 3
   },
   "file_extension": ".py",
   "mimetype": "text/x-python",
   "name": "python",
   "nbconvert_exporter": "python",
   "pygments_lexer": "ipython3",
   "version": "3.10.0"
  },
  "orig_nbformat": 4
 },
 "nbformat": 4,
 "nbformat_minor": 2
}
