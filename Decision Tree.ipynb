{
 "cells": [
  {
   "cell_type": "markdown",
   "metadata": {},
   "source": [
    "# COMPSCI 589 HW1\n",
    "\n",
    "#### Name: Haochen Wang"
   ]
  },
  {
   "cell_type": "markdown",
   "metadata": {},
   "source": [
    "### SECTION 0: Load Libraries"
   ]
  },
  {
   "cell_type": "code",
   "execution_count": 490,
   "metadata": {},
   "outputs": [],
   "source": [
    "import sklearn.model_selection\n",
    "import scipy\n",
    "import numpy as np\n",
    "import csv\n",
    "import math\n",
    "import matplotlib.pyplot as plt\n",
    "from operator import itemgetter\n",
    "from collections import Counter"
   ]
  },
  {
   "cell_type": "markdown",
   "metadata": {},
   "source": [
    "### SECTION 2: Evaluating Decision Tree"
   ]
  },
  {
   "cell_type": "code",
   "execution_count": 491,
   "metadata": {},
   "outputs": [
    {
     "name": "stdout",
     "output_type": "stream",
     "text": [
      "[[1 1 0 ... 1 1 1]\n",
      " [2 2 2 ... 0 1 2]\n",
      " [1 1 2 ... 1 1 1]\n",
      " ...\n",
      " [1 1 1 ... 1 1 0]\n",
      " [2 0 1 ... 2 2 1]\n",
      " [1 1 0 ... 1 1 1]]\n"
     ]
    }
   ],
   "source": [
    "# Import Document\n",
    "\n",
    "house_file = open('house_votes_84.csv', encoding='utf-8-sig')\n",
    "csvreader = csv.reader(house_file)\n",
    "houserows = []\n",
    "for row in csvreader:\n",
    "        houserows.append(row)\n",
    "\n",
    "hvcat = houserows[0]\n",
    "# print(housevotecat)\n",
    "\n",
    "#housevotedat = np.array([[int(element) for element in row] for row in houserows[1:]]).T\n",
    "housevotedat = np.array(houserows[1:]).astype(int).T\n",
    "\n",
    "print(housevotedat)"
   ]
  },
  {
   "cell_type": "code",
   "execution_count": 492,
   "metadata": {},
   "outputs": [
    {
     "name": "stdout",
     "output_type": "stream",
     "text": [
      "[[1 1 0 1 2 1 1]\n",
      " [2 2 2 2 2 2 2]\n",
      " [1 1 2 2 2 2 1]\n",
      " [2 2 0 1 1 1 2]\n",
      " [2 2 2 0 2 2 2]\n",
      " [2 2 2 2 2 2 2]\n",
      " [1 1 1 1 1 1 1]\n",
      " [1 1 1 1 1 1 1]\n",
      " [1 1 1 1 1 1 1]\n",
      " [2 1 1 1 1 1 1]\n",
      " [0 1 2 2 2 1 1]\n",
      " [2 2 1 1 0 1 1]\n",
      " [2 2 2 2 2 2 0]\n",
      " [2 2 2 1 2 2 2]\n",
      " [1 1 1 1 2 2 2]\n",
      " [2 0 1 2 2 2 2]\n",
      " [1 1 0 0 0 0 0]]\n"
     ]
    }
   ],
   "source": [
    "house_file = open('housetest.csv', encoding='utf-8-sig')\n",
    "csvreader = csv.reader(house_file)\n",
    "houser = []\n",
    "for row in csvreader:\n",
    "        houser.append(row)\n",
    "\n",
    "hvct = houser[0]\n",
    "# print(housevotecat)\n",
    "\n",
    "hvdt = np.array([[int(element) for element in row] for row in houser[1:]]).T\n",
    "\n",
    "print(hvdt)"
   ]
  },
  {
   "cell_type": "code",
   "execution_count": 493,
   "metadata": {},
   "outputs": [],
   "source": [
    "# Node Class\n",
    "class Treenode:\n",
    "    type = \"\"\n",
    "    label = None\n",
    "    testattribute = \"\"\n",
    "    edge = {}\n",
    "\n",
    "    def __init__(self, label, type):\n",
    "        self.label = label\n",
    "        self.type = type\n",
    "        # self.left = left\n",
    "        # self.right = right\n"
   ]
  },
  {
   "cell_type": "code",
   "execution_count": 494,
   "metadata": {},
   "outputs": [],
   "source": [
    "# Define helper functions that I use in decision tree.\n",
    "\n",
    "def same(column):\n",
    "    return all(item == column[0] for item in column)\n",
    "\n",
    "def majority(column):\n",
    "    return np.argmax(np.bincount(column))\n",
    "\n",
    "def entropy(col):\n",
    "    values = list(Counter(col).values())\n",
    "    ent = 0\n",
    "    for value in values:\n",
    "        k = (value/sum(values))\n",
    "        ent += -k*math.log(k,2)\n",
    "    return ent\n",
    "\n",
    "def gini(col):\n",
    "    values = list(Counter(col).values())\n",
    "    ginivalue = 1\n",
    "    for value in values:\n",
    "        prob = (value/sum(values))\n",
    "        ginivalue -= prob**2\n",
    "    return ginivalue\n",
    "\n",
    "# test = np.array([1,1,3,3,11,11])\n",
    "# same(test)\n",
    "# majority(test)\n",
    "\n",
    "# test1 = np.array([1,1,0,0,0]) # should get entropy .971, gini .48\n",
    "# test2 = np.array([1,1,1,1,1,0,0,0,0,0,0,0,0,0]) # should get entropy .940, gini.459\n",
    "# entropy(test2)"
   ]
  },
  {
   "cell_type": "code",
   "execution_count": 495,
   "metadata": {},
   "outputs": [],
   "source": [
    "# Define three test criteria: \n",
    "    \n",
    "# ID3 - Entropy Gain \n",
    "\n",
    "def id3(collist, listattribution):\n",
    "    original_ent = entropy(collist[-1])\n",
    "    smallest_ent = 1\n",
    "    i = 0\n",
    "\n",
    "    # bestindex = i\n",
    "    best = listattribution[i]\n",
    "    for attributes in listattribution[:-1]: # I keep the last column: the target/label.\n",
    "        liskey = list(Counter(collist[i]).keys())\n",
    "        listofcategory = []\n",
    "        for value in liskey:\n",
    "            index = [idx for idx, element in enumerate(collist[i]) if element == value]\n",
    "            category = np.array(collist[-1][index]) \n",
    "            listofcategory.append(category) # list of nparrays of target/label/categories.\n",
    "\n",
    "        ent = 0\n",
    "        for cat in listofcategory:\n",
    "            a = len(cat)/len(collist[i]) # This is probability\n",
    "            ent += a * entropy(cat) # probability multiple by entropy\n",
    "\n",
    "        if ent < smallest_ent:\n",
    "            smallest_ent = ent\n",
    "            best = attributes\n",
    "            # bestindex = i\n",
    "        i+=1\n",
    "\n",
    "    return best, original_ent-ent\n",
    "\n",
    "# C4.5 - Entrophy Ratio \n",
    "# CART - Gini Impurity\n",
    "def cart(collist, listattribution):\n",
    "    smallest_gini = 1\n",
    "    i = 0\n",
    "    # bestindex = i\n",
    "    best = listattribution[i]\n",
    "    for attributes in listattribution[:-1]: # I keep the last column: the target/label.\n",
    "        liskey = list(Counter(collist[i]).keys())\n",
    "        listofcategory = []\n",
    "        for value in liskey:\n",
    "            index = [idx for idx, element in enumerate(collist[i]) if element == value]\n",
    "            category = np.array(collist[-1][index]) \n",
    "            listofcategory.append(category) # list of nparrays of target/label/categories.\n",
    "\n",
    "        gin = 0\n",
    "        for cat in listofcategory:\n",
    "            a = len(cat)/len(collist[i]) # This is probability\n",
    "            gin += a * gini(cat) # probability multiple by gini\n",
    "\n",
    "        if gin < smallest_gini:\n",
    "            smallest_gini = gin\n",
    "            best = attributes\n",
    "            # bestindex = i\n",
    "        i+=1\n",
    "\n",
    "    return best, gin\n",
    "    "
   ]
  },
  {
   "cell_type": "code",
   "execution_count": 497,
   "metadata": {},
   "outputs": [],
   "source": [
    "# Decision Tree\n",
    "def decisiontree(dataset: np.array, listattributes: list, algortype: str ='id3'):\n",
    "    def processbest(algor):\n",
    "        if algor == \"id3\":\n",
    "            return id3(datasetcopy, listattricopy)\n",
    "        elif algor == \"cart\":\n",
    "            return cart(datasetcopy, listattricopy)\n",
    "        else: \n",
    "            return cart(datasetcopy, listattricopy)\n",
    "\n",
    "    datasetcopy = np.copy(dataset)\n",
    "    listattricopy = listattributes.copy()\n",
    "    \n",
    "    node = Treenode(label=-1,type=\"decision\")\n",
    "\n",
    "    if same(datasetcopy[-1]):\n",
    "        node.type = \"leaf\"\n",
    "        node.label = datasetcopy[-1][0]\n",
    "        return node\n",
    "    \n",
    "    if len(listattricopy) == 0:\n",
    "        node.type = \"leaf\"\n",
    "        node.label = majority(datasetcopy[-1])\n",
    "        return node\n",
    "\n",
    "    bestattribute = processbest(algortype)[0]\n",
    "    node.testattribute = bestattribute\n",
    "    bindex = listattricopy.index(bestattribute)\n",
    "\n",
    "    bigv = list(Counter(datasetcopy[bindex]).keys())\n",
    "\n",
    "    subdatalists = []\n",
    "    for smallv in bigv:\n",
    "        index = [idx for idx, element in enumerate(datasetcopy[bindex]) if element == smallv]\n",
    "        subdatav = np.array(datasetcopy.T[index]).T\n",
    "        subdatav = np.delete(subdatav,bindex,0)  # I delete the column I already used using bindex as reference. \n",
    "        # Then, later, pop the same index from list attribute.\n",
    "        subdatalists.append(subdatav) # list of nparrays of target/label/categories.\n",
    "\n",
    "    listattricopy.pop(bindex)\n",
    "    \n",
    "    edge = {}\n",
    "    sdindex = 0\n",
    "    for subvdata in subdatalists:\n",
    "        if subvdata.size == 0:\n",
    "            node.type = \"leaf\"\n",
    "            node.label = majority(subdatav[-1])\n",
    "\n",
    "        subtree = decisiontree(subvdata, listattricopy, algortype)\n",
    "        attributevalue = bigv[sdindex]\n",
    "        edge[attributevalue] = subtree\n",
    "        sdindex += 1\n",
    "\n",
    "    node.edge = edge\n",
    "\n",
    "    return node"
   ]
  },
  {
   "cell_type": "code",
   "execution_count": 526,
   "metadata": {},
   "outputs": [
    {
     "name": "stdout",
     "output_type": "stream",
     "text": [
      "{2: <__main__.Treenode object at 0x12a53aa70>, 0: <__main__.Treenode object at 0x12a53ba30>, 1: <__main__.Treenode object at 0x12a538850>}\n"
     ]
    }
   ],
   "source": [
    "id3(housevotedat,hvcat)\n",
    "firsttree = decisiontree(housevotedat, hvcat, 'id3')\n",
    "print(firsttree.edge)"
   ]
  },
  {
   "cell_type": "code",
   "execution_count": 499,
   "metadata": {},
   "outputs": [
    {
     "name": "stdout",
     "output_type": "stream",
     "text": [
      "3\n"
     ]
    }
   ],
   "source": [
    "t1 = np.array([[0,1,2,3,4,5,6,7,8,9,10,11,12,13,14,15,16,0],[0,1,2,3,4,5,6,7,8,9,10,11,12,13,14,15,16,0],[0,1,2,3,4,5,6,7,8,9,10,11,12,13,14,15,16,1],[0,1,2,3,4,5,6,7,8,9,10,11,12,13,14,15,16,1],[0,1,2,3,4,5,6,7,8,9,10,11,12,13,14,15,16,0]]).T\n",
    "# Counter(t).keys()\n",
    "ind = [1,3,3]\n",
    "dex = [0,2,6,9,14,15]\n",
    "t = np.array(t1.T[ind]).T\n",
    "t2 = np.delete(t,3,0)\n",
    "# print(t2)\n",
    "\n",
    "thaha = np.array([[1],[2],[3]])\n",
    "    \n",
    "print(thaha.size)"
   ]
  }
 ],
 "metadata": {
  "interpreter": {
   "hash": "aee8b7b246df8f9039afb4144a1f6fd8d2ca17a180786b69acc140d282b71a49"
  },
  "kernelspec": {
   "display_name": "Python 3.10.0 64-bit",
   "language": "python",
   "name": "python3"
  },
  "language_info": {
   "codemirror_mode": {
    "name": "ipython",
    "version": 3
   },
   "file_extension": ".py",
   "mimetype": "text/x-python",
   "name": "python",
   "nbconvert_exporter": "python",
   "pygments_lexer": "ipython3",
   "version": "3.10.0"
  },
  "orig_nbformat": 4
 },
 "nbformat": 4,
 "nbformat_minor": 2
}
